{
 "cells": [
  {
   "cell_type": "markdown",
   "metadata": {},
   "source": [
    "# Areas of interest"
   ]
  },
  {
   "cell_type": "code",
   "execution_count": 1,
   "metadata": {},
   "outputs": [],
   "source": [
    "import pandas as pd\n",
    "import geopandas as gpd\n",
    "import matplotlib.pyplot as plt\n",
    "import matplotlib.patches as patches\n",
    "from mpl_toolkits.axes_grid1.inset_locator import inset_axes\n",
    "import contextily as ctx"
   ]
  },
  {
   "cell_type": "code",
   "execution_count": 2,
   "metadata": {},
   "outputs": [],
   "source": [
    "geo_antennas = gpd.read_file('../data/affected_btsid/affected_btsid.shp')\n",
    "geo_antennas.crs = 'EPSG:4674'\n",
    "\n",
    "zonas_geo = gpd.read_file('../data/zonas/ZONA_C17.shp')\n",
    "zonas_geo.crs = 'EPSG:4674'\n",
    "\n",
    "zonas_se = pd.read_csv('../data/auxvars_zone_census.csv.tar.gz')\n",
    "\n",
    "zonas_geo.GEOCODIGO = zonas_geo.GEOCODIGO.astype(str)\n",
    "zonas_se.ZONA = zonas_se.ZONA.astype(str)\n",
    "\n",
    "zonas_geo = zonas_geo.merge(zonas_se, left_on='GEOCODIGO', right_on='ZONA')\n",
    "\n",
    "geo_antennas = geo_antennas.sjoin(zonas_geo, how='left', predicate='intersects')"
   ]
  },
  {
   "cell_type": "code",
   "execution_count": 3,
   "metadata": {},
   "outputs": [],
   "source": [
    "warned_towers = pd.read_csv('../data/warned_towers.csv')\n",
    "\n",
    "warned_towers['date'] = pd.to_datetime(warned_towers['date'])\n",
    "\n",
    "warned_towers = warned_towers.merge(geo_antennas[['bts_id', 'geometry']], on='bts_id', how='left')\n",
    "warned_towers = gpd.GeoDataFrame(warned_towers, geometry='geometry', crs='EPSG:4674')"
   ]
  },
  {
   "cell_type": "code",
   "execution_count": null,
   "metadata": {},
   "outputs": [],
   "source": [
    "chile_border_adm0 = gpd.read_file('../data/data_meta/borders/chl_admbnda_adm0_bcn_20211008.shp')\n",
    "chile_border_adm3 = gpd.read_file('../data/data_meta/borders/chl_admbnda_adm3_bcn_20211008.shp')\n",
    "incendio_gpd = gpd.read_file('../data/ED_AreasAfectadasIncendio_Valparaiso/ED_AreasAfectadasIncendio_Valparaiso.shp')"
   ]
  },
  {
   "cell_type": "code",
   "execution_count": null,
   "metadata": {},
   "outputs": [],
   "source": [
    "fig, ax = plt.subplots(figsize=(10, 6))  \n",
    "\n",
    "chile_border_adm0.plot(color='lightgray', ax=ax)\n",
    "chile_border_adm3[chile_border_adm3['ADM1_ES'] == 'Región de Valparaíso'].plot(color='lightblue', ax=ax, alpha=0.5)\n",
    "incendio_gpd.plot(color='red', alpha=0.5, ax=ax)\n",
    "warned_towers.plot(color='darkgreen', markersize=1, ax=ax, legend=True)\n",
    "\n",
    "ax.set_ylim( -33.5, -32.6)\n",
    "ax.set_xlim(-71.8, -70.5)\n",
    "\n",
    "rect1 = patches.Rectangle((0, 0), 1.3, 0.9, linewidth=0, color='red', alpha=0.5)\n",
    "rect2 = patches.Rectangle((0, 0), 1.3, 0.9, linewidth=0, color='lightblue', alpha=0.5)\n",
    "rect3 = plt.Line2D([0], [0], marker='o', linewidth=0, markerfacecolor='darkgreen', markersize=10)\n",
    "handles_to_append = [rect1, rect2, rect3]\n",
    "\n",
    "# Explicitly specify handles and labels for the legend\n",
    "handles, labels = [], []\n",
    "for line in ax.get_lines():\n",
    "    handles.append(line)\n",
    "    labels.append(line.get_label())\n",
    "handles.extend(handles_to_append)\n",
    "\n",
    "labels_to_append = ['Wildfire', 'Región de Valparaíso', 'Warned Towers']\n",
    "labels.extend(labels_to_append)\n",
    "\n",
    "ax.legend(handles, labels, fontsize=14, loc='lower right')\n",
    "\n",
    "plt.tight_layout()\n",
    "# plt.savefig('visuals_/map_warned_towers.jpg', dpi=300)\n",
    "\n",
    "plt.show();"
   ]
  },
  {
   "cell_type": "code",
   "execution_count": null,
   "metadata": {},
   "outputs": [],
   "source": [
    "geo_antennas = geo_antennas.to_crs(epsg=3857)\n",
    "zonas_geo = zonas_geo.to_crs(epsg=3857)\n",
    "incendio_gpd = incendio_gpd.to_crs(epsg=3857)\n",
    "warned_towers = warned_towers.to_crs(epsg=3857)\n",
    "chile_border_adm3 = chile_border_adm3.to_crs(epsg=3857)"
   ]
  },
  {
   "cell_type": "code",
   "execution_count": null,
   "metadata": {},
   "outputs": [],
   "source": [
    "color_map = {'Red': 'red',\n",
    "             'Yellow': 'yellow',\n",
    "             'Green': 'green',\n",
    "             'BMFB': 'black',\n",
    "             'Outer': 'grey'\n",
    "             }\n",
    "geo_antennas['colors'] = geo_antennas['category'].map(color_map)\n",
    "\n",
    "# Main figure (gdf5, fires, towers)\n",
    "fig, ax = plt.subplots(figsize=(8, 8))\n",
    "chile_border_adm3[chile_border_adm3['ADM1_ES'] == 'Región de Valparaíso'].plot(color='lightblue', ax=ax, alpha=0.3)\n",
    "incendio_gpd.plot(ax=ax, facecolor='red', alpha=0.5)\n",
    "warned_towers.plot(ax=ax, color='darkgreen', markersize=1, alpha=0.5)\n",
    "ax.set_xlim([-0.8*1e7, -0.779*1e7])\n",
    "ax.set_ylim([-4*1e6, -3.8*1e6])\n",
    "ax.set_axis_off()\n",
    "\n",
    "# Add basemap to the main figure\n",
    "ctx.add_basemap(ax, source=ctx.providers.CartoDB.Positron)\n",
    "\n",
    "# Create an inset figure (affected_towers)\n",
    "ax_inset = inset_axes(ax, width=\"50%\", height=\"50%\",\n",
    "                      loc='upper right')\n",
    "chile_border_adm3[chile_border_adm3['ADM1_ES'] == 'Región de Valparaíso'].plot(color='lightblue', ax=ax_inset, alpha=0.5)\n",
    "incendio_gpd.plot(ax=ax_inset, facecolor='red')\n",
    "warned_towers.plot(ax=ax_inset, color='darkgreen', markersize=3)\n",
    "\n",
    "# Set limits for the inset plot\n",
    "ax_inset.set_xlim([-0.7975*1e7, -0.793*1e7])\n",
    "ax_inset.set_ylim([-3.925*1e6, -3.885*1e6])\n",
    "\n",
    "ax_inset.set_axis_off()\n",
    "\n",
    "# Add basemap to the inset figure\n",
    "ctx.add_basemap(ax_inset, source=ctx.providers.Esri.WorldGrayCanvas)\n",
    "                # crs=geo_antennas.crs)\n",
    "\n",
    "# Add a distinctive frame to the inset axis\n",
    "rect = plt.Rectangle(\n",
    "    (ax_inset.get_position().x0, ax_inset.get_position().y0),\n",
    "    ax_inset.get_position().width,\n",
    "    ax_inset.get_position().height,\n",
    "    linewidth=1,  # Thickness of the border\n",
    "    edgecolor='black',  # Color of the border\n",
    "    facecolor='none',  # No fill inside the frame\n",
    "    transform=fig.transFigure,  # Make sure the rectangle aligns with the figure coordinates\n",
    "    linestyle='-',  # Solid line style, can be changed to '--', ':', etc.\n",
    "    zorder=10       # Ensures the frame appears above other elements\n",
    ")\n",
    "\n",
    "fig.patches.append(rect)\n",
    "\n",
    "\n",
    "rect1 = patches.Rectangle((0, 0), 1.3, 0.9, linewidth=0, color='red', alpha=1)\n",
    "rect2 = patches.Rectangle((0, 0), 1.3, 0.9, linewidth=0, color='lightblue', alpha=0.5)\n",
    "rect3 = plt.Line2D([0], [0], marker='o', linewidth=0, markerfacecolor='darkgreen', markersize=10)\n",
    "handles_to_append = [rect1, rect2, rect3]\n",
    "\n",
    "# Explicitly specify handles and labels for the legend\n",
    "handles, labels = [], []\n",
    "for line in ax.get_lines():\n",
    "    handles.append(line)\n",
    "    labels.append(line.get_label())\n",
    "handles.extend(handles_to_append)\n",
    "\n",
    "labels_to_append = ['Wildfire', 'Región de Valparaíso', 'Warned Towers']\n",
    "labels.extend(labels_to_append)\n",
    "\n",
    "ax.legend(handles, labels, fontsize=14, loc='lower right')\n",
    "\n",
    "fig.savefig('../visuals_created/map_warned_towers_modified.jpeg',\n",
    "            dpi=300,\n",
    "            bbox_inches='tight',\n",
    "            pad_inches=0)"
   ]
  }
 ],
 "metadata": {
  "kernelspec": {
   "display_name": "Python 3 (ipykernel)",
   "language": "python",
   "name": "python3"
  },
  "language_info": {
   "codemirror_mode": {
    "name": "ipython",
    "version": 3
   },
   "file_extension": ".py",
   "mimetype": "text/x-python",
   "name": "python",
   "nbconvert_exporter": "python",
   "pygments_lexer": "ipython3",
   "version": "3.12.0"
  }
 },
 "nbformat": 4,
 "nbformat_minor": 4
}
